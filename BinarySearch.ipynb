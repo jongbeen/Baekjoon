{
 "cells": [
  {
   "cell_type": "markdown",
   "metadata": {},
   "source": [
    "### I. B2805 수 찾기"
   ]
  },
  {
   "cell_type": "code",
   "execution_count": 4,
   "metadata": {},
   "outputs": [
    {
     "name": "stdout",
     "output_type": "stream",
     "text": [
      "5\n",
      "4 1 2 5 3\n",
      "5\n",
      "1 3 5 7 9\n",
      "1\n",
      "1\n",
      "1\n",
      "0\n",
      "0\n"
     ]
    }
   ],
   "source": [
    "N = int(input())\n",
    "array = list(map(int,input().split()))\n",
    "array.sort()\n",
    "M = int(input())\n",
    "find = list(map(int,input().split()))\n",
    "result = []\n",
    "for i in find:\n",
    "    start, end = 0, N-1\n",
    "    result.append(0)\n",
    "    while (start<=end):\n",
    "        mid = (start+end)//2\n",
    "        if i == array[mid]:\n",
    "            result.pop()\n",
    "            result.append(1)\n",
    "            break\n",
    "        if array[mid] > i:\n",
    "            end = mid -1\n",
    "        else :\n",
    "            start = mid+1\n",
    "for i in result:\n",
    "    print(i)"
   ]
  },
  {
   "cell_type": "markdown",
   "metadata": {},
   "source": [
    "### II. B10816 숫자 카드 2\n",
    "#### 풀이 1. 가장 직관적이지만 시간초과 (한번 해봤는데 역시 시간초과)"
   ]
  },
  {
   "cell_type": "code",
   "execution_count": 6,
   "metadata": {},
   "outputs": [
    {
     "name": "stdout",
     "output_type": "stream",
     "text": [
      "10\n",
      "6 3 2 10 10 10 -10 -10 7 3\n",
      "8\n",
      "10 9 -5 2 3 4 5 -10\n",
      "3 0 0 1 2 0 0 2 "
     ]
    }
   ],
   "source": [
    "N = int(input())\n",
    "array = list(map(int,input().split()))\n",
    "M = int(input())\n",
    "pack = list(map(int,input().split()))\n",
    "\n",
    "for i in range(len(pack)):\n",
    "    pack[i] = array.count(pack[i])\n",
    "for i in pack:\n",
    "    print(i, end=' ')"
   ]
  },
  {
   "cell_type": "markdown",
   "metadata": {},
   "source": [
    "#### 풀이 2. 이진탐색"
   ]
  },
  {
   "cell_type": "code",
   "execution_count": null,
   "metadata": {},
   "outputs": [],
   "source": [
    "from bisect import bisect_left, bisect_right\n",
    "\n",
    "N = int(input())\n",
    "array = list(map(int,input().split()))\n",
    "array.sort()\n",
    "\n",
    "M = int(input())\n",
    "pack = list(map(int,input().split()))\n",
    "result = []\n",
    "for i in pack:\n",
    "    l = bisect_left(array,i)\n",
    "    r = bisect_right(array,i)\n",
    "    result.append(r-l)\n",
    "for i in result:\n",
    "    print(i, end=' ')"
   ]
  },
  {
   "cell_type": "markdown",
   "metadata": {},
   "source": [
    "###  III. B1654 랜선 자르기\n",
    "#### 1. 내 풀이\n",
    "- recursionlimit 때문에 runtime Error 발생 (sys.으로 해결)\n",
    "- K와 크거나 <strong>같을때 </strong> 최댓값 찾음\n",
    "- K보다 <strong>큰 </strong> 경우는 최솟값 찾음"
   ]
  },
  {
   "cell_type": "code",
   "execution_count": null,
   "metadata": {},
   "outputs": [],
   "source": [
    "import sys\n",
    "sys.setrecursionlimit(10000)\n",
    "\n",
    "N, K = map(int,input().split())\n",
    "array = []\n",
    "for _ in range(N):\n",
    "    array.append(int(input()))\n",
    "array.sort()\n",
    "start, end = 1, max(array)\n",
    "\n",
    "while start <= end:\n",
    "    mid = (start + end) // 2\n",
    "    lines = 0\n",
    "    for i in array:\n",
    "        lines += i // mid\n",
    "    if lines >= K:\n",
    "        start = mid + 1\n",
    "    else:\n",
    "        end = mid - 1\n",
    "print(end)"
   ]
  },
  {
   "cell_type": "markdown",
   "metadata": {},
   "source": [
    "### IV. B2805 나무자르기"
   ]
  },
  {
   "cell_type": "markdown",
   "metadata": {},
   "source": [
    "#### 1. 내 풀이 (오답)\n",
    "- 2 3 <br> 2 2 \n",
    "- 위의 반례의 경우 가지고 가는 길이는 4, 최댓값은 0으로 가능한데, 내 답은 가지고 가는 길이 3 아니면 찾지 못한다."
   ]
  },
  {
   "cell_type": "code",
   "execution_count": 8,
   "metadata": {},
   "outputs": [
    {
     "name": "stdout",
     "output_type": "stream",
     "text": [
      "2 3\n",
      "2 2\n"
     ]
    }
   ],
   "source": [
    "N, K = map(int,input().split())\n",
    "array = list(map(int,input().split()))\n",
    "array.sort()\n",
    "\n",
    "start, end = 1, max(array)\n",
    "\n",
    "while start <= end:\n",
    "    mid, SUM = (start+end)//2, 0\n",
    "    for i in array:\n",
    "        if i>= mid:\n",
    "            SUM += i-mid\n",
    "    if SUM == K:\n",
    "        start = mid + 1\n",
    "    else:\n",
    "        end = mid -1\n",
    "print(end)"
   ]
  },
  {
   "cell_type": "markdown",
   "metadata": {},
   "source": [
    "#### 2. 해답\n",
    "- mid 대신 end를 출력해 해결"
   ]
  },
  {
   "cell_type": "code",
   "execution_count": 10,
   "metadata": {},
   "outputs": [
    {
     "name": "stdout",
     "output_type": "stream",
     "text": [
      "2 3\n",
      "2 2\n",
      "1\n",
      "0\n"
     ]
    }
   ],
   "source": [
    "N, K = map(int,input().split())\n",
    "array = list(map(int,input().split()))\n",
    "array.sort()\n",
    "\n",
    "start, end = 1, max(array)\n",
    "while start <= end:\n",
    "    mid, SUM = (start+end)//2, 0\n",
    "    for i in array:\n",
    "        if i>= mid:\n",
    "            SUM += i-mid\n",
    "    if SUM >= K:\n",
    "        start = mid + 1\n",
    "    else:\n",
    "        end = mid - 1\n",
    "\n",
    "print(end)"
   ]
  },
  {
   "cell_type": "markdown",
   "metadata": {},
   "source": [
    "### V. B1764 듣보잡"
   ]
  },
  {
   "cell_type": "markdown",
   "metadata": {},
   "source": [
    "#### 1. set자료형 풀이\n",
    "- &연산을 통해 중복 데이터 해결"
   ]
  },
  {
   "cell_type": "code",
   "execution_count": 11,
   "metadata": {},
   "outputs": [
    {
     "name": "stdout",
     "output_type": "stream",
     "text": [
      "3 4\n",
      "john\n",
      "park\n",
      "marcus\n",
      "park\n",
      "marcus\n",
      "anthony\n",
      "kkk\n",
      "2\n",
      "marcus\n",
      "park\n"
     ]
    }
   ],
   "source": [
    "N, M = map(int,input().split())\n",
    "arr1 , arr2 = set(), set()\n",
    "for _ in range(N):\n",
    "    arr1.add(input())\n",
    "for _ in range(M):\n",
    "    arr2.add(input())\n",
    "result = list(arr1 & arr2)\n",
    "result.sort()\n",
    "print(len(result))\n",
    "for i in result:\n",
    "    print(i)"
   ]
  },
  {
   "cell_type": "markdown",
   "metadata": {},
   "source": [
    "### VI. 예산\n",
    "#### 내 풀이"
   ]
  },
  {
   "cell_type": "code",
   "execution_count": 13,
   "metadata": {},
   "outputs": [
    {
     "name": "stdout",
     "output_type": "stream",
     "text": [
      "4\n",
      "120 110 140 150\n",
      "485\n",
      "127\n"
     ]
    }
   ],
   "source": [
    "N = int(input())\n",
    "array = list(map(int,input().split()))\n",
    "M = int(input())\n",
    "\n",
    "start, end = 1, max(array)\n",
    "while start <= end:\n",
    "    mid, SUM = (start + end) // 2, 0\n",
    "    for data in array:\n",
    "        if data > mid:\n",
    "            SUM += mid\n",
    "        else:\n",
    "            SUM += data\n",
    "    if SUM <= M:\n",
    "        start = mid + 1\n",
    "    else:\n",
    "        end = mid - 1\n",
    "print(end)"
   ]
  }
 ],
 "metadata": {
  "kernelspec": {
   "display_name": "Python 3",
   "language": "python",
   "name": "python3"
  },
  "language_info": {
   "codemirror_mode": {
    "name": "ipython",
    "version": 3
   },
   "file_extension": ".py",
   "mimetype": "text/x-python",
   "name": "python",
   "nbconvert_exporter": "python",
   "pygments_lexer": "ipython3",
   "version": "3.7.3"
  }
 },
 "nbformat": 4,
 "nbformat_minor": 2
}
